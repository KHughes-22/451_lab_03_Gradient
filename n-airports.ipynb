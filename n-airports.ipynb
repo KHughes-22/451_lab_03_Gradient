{
 "cells": [
  {
   "cell_type": "code",
   "execution_count": 2,
   "metadata": {},
   "outputs": [
    {
     "ename": "ModuleNotFoundError",
     "evalue": "No module named 'matplotlib'",
     "output_type": "error",
     "traceback": [
      "\u001b[0;31m---------------------------------------------------------------------------\u001b[0m",
      "\u001b[0;31mModuleNotFoundError\u001b[0m                       Traceback (most recent call last)",
      "Cell \u001b[0;32mIn[2], line 24\u001b[0m\n\u001b[1;32m     21\u001b[0m     y \u001b[38;5;241m=\u001b[39m random\u001b[38;5;241m.\u001b[39mrandom()\n\u001b[1;32m     22\u001b[0m     airports\u001b[38;5;241m.\u001b[39mappend((x,y)) \n\u001b[0;32m---> 24\u001b[0m \u001b[38;5;28;01mimport\u001b[39;00m \u001b[38;5;21;01mmatplotlib\u001b[39;00m\u001b[38;5;21;01m.\u001b[39;00m\u001b[38;5;21;01mpyplot\u001b[39;00m \u001b[38;5;28;01mas\u001b[39;00m \u001b[38;5;21;01mplt\u001b[39;00m\n\u001b[1;32m     26\u001b[0m zip_cities \u001b[38;5;241m=\u001b[39m \u001b[38;5;28mzip\u001b[39m(\u001b[38;5;241m*\u001b[39mcities)\n\u001b[1;32m     27\u001b[0m plt\u001b[38;5;241m.\u001b[39mscatter(\u001b[38;5;241m*\u001b[39mzip_cities, marker\u001b[38;5;241m=\u001b[39m\u001b[38;5;124m'\u001b[39m\u001b[38;5;124m+\u001b[39m\u001b[38;5;124m'\u001b[39m,color\u001b[38;5;241m=\u001b[39m\u001b[38;5;124m'\u001b[39m\u001b[38;5;124mb\u001b[39m\u001b[38;5;124m'\u001b[39m, label\u001b[38;5;241m=\u001b[39m\u001b[38;5;124m'\u001b[39m\u001b[38;5;124mCities\u001b[39m\u001b[38;5;124m'\u001b[39m)\n",
      "\u001b[0;31mModuleNotFoundError\u001b[0m: No module named 'matplotlib'"
     ]
    }
   ],
   "source": [
    "import random\n",
    "import numpy as np\n",
    "\n",
    "num_city = 100\n",
    "num_air = 3\n",
    "num_center = 5\n",
    "sigma = 0.1\n",
    "cities = set()\n",
    "airports = []\n",
    "\n",
    "for i in range(num_center):\n",
    "    x = random.random()\n",
    "    y = random.random()\n",
    "    xc = np.random.normal(x, sigma, num_city//num_center)\n",
    "    yc = np.random.normal(y, sigma, num_city//num_center)\n",
    "    cities = cities.union(zip(xc, yc))\n",
    "\n",
    "\n",
    "for i in range(num_air):\n",
    "    x = random.random()\n",
    "    y = random.random()\n",
    "    airports.append((x,y)) \n",
    "\n",
    "import matplotlib.pyplot as plt\n",
    "\n",
    "zip_cities = zip(*cities)\n",
    "plt.scatter(*zip_cities, marker='+',color='b', label='Cities')\n",
    "zip_airs = zip(*airports)\n",
    "plt.scatter(*zip_airs, marker='*', color='r', s=100, label='Airports')\n",
    "plt.legend()\n",
    "plt"
   ]
  },
  {
   "cell_type": "code",
   "execution_count": null,
   "metadata": {},
   "outputs": [],
   "source": []
  }
 ],
 "metadata": {
  "kernelspec": {
   "display_name": "Python 3 (ipykernel)",
   "language": "python",
   "name": "python3"
  },
  "language_info": {
   "codemirror_mode": {
    "name": "ipython",
    "version": 3
   },
   "file_extension": ".py",
   "mimetype": "text/x-python",
   "name": "python",
   "nbconvert_exporter": "python",
   "pygments_lexer": "ipython3",
   "version": "3.9.6"
  }
 },
 "nbformat": 4,
 "nbformat_minor": 4
}
